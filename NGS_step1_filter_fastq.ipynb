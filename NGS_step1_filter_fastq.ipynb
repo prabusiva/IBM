{
 "cells": [
  {
   "cell_type": "markdown",
   "metadata": {},
   "source": [
    "# Setup"
   ]
  },
  {
   "cell_type": "code",
   "execution_count": 1,
   "metadata": {},
   "outputs": [],
   "source": [
    "import os\n",
    "from Bio import SeqIO, Align\n",
    "from Bio.Seq import Seq"
   ]
  },
  {
   "cell_type": "markdown",
   "metadata": {},
   "source": [
    "# Set up aligner, functions and parameters"
   ]
  },
  {
   "cell_type": "code",
   "execution_count": 2,
   "metadata": {},
   "outputs": [],
   "source": [
    "aligner = Align.PairwiseAligner()\n",
    "aligner.mode = 'local'\n",
    "aligner.open_gap_score = -10\n",
    "aligner.extend_gap_score = -10"
   ]
  },
  {
   "cell_type": "code",
   "execution_count": 3,
   "metadata": {},
   "outputs": [],
   "source": [
    "def filter_fastq(query_seq, signature_seq1, signature_seq2, min_score):\n",
    "    '''Checks whether the read scores a hit with any of the signature sequence in either orientation'''\n",
    "    \n",
    "    all_signature_seqs = [\n",
    "        signature_seq1,\n",
    "        signature_seq2,\n",
    "        signature_seq1.reverse_complement(),\n",
    "        signature_seq2.reverse_complement()\n",
    "    ]\n",
    "    \n",
    "    match_found = False\n",
    "    for signature_seq in all_signature_seqs:\n",
    "        alignment = aligner.align(query_seq, signature_seq)\n",
    "        if alignment.score >= min_score:\n",
    "            match_found = True\n",
    "            break\n",
    "    return match_found\n",
    "\n",
    "# Change new_filename below to customize the output filename\n",
    "def map_filename(filename):\n",
    "    library_info = filename.split(\".fq\")[0].split(\"NGS_raw_\")[1]\n",
    "    read_direction = library_info.split(\"_\")[2]\n",
    "    new_filename = \"example_IBM_NGS_filtered_\" + library_info + \".fq\"\n",
    "    return new_filename"
   ]
  },
  {
   "cell_type": "code",
   "execution_count": 4,
   "metadata": {},
   "outputs": [],
   "source": [
    "# Determine how long the sequence within the entered signature sequence will be used\n",
    "signature_len = 12"
   ]
  },
  {
   "cell_type": "markdown",
   "metadata": {},
   "source": [
    "# Example on an IBM library of mCherry split by the split M86 intein"
   ]
  },
  {
   "cell_type": "code",
   "execution_count": 5,
   "metadata": {},
   "outputs": [],
   "source": [
    "M86_N_seq_30 = Seq(\"TGGAtgcatctcgggagatagtttgatcag\")\n",
    "M86_C_seq_30 = Seq(\"TGAgttatgtacaatgatgtcattggcgac\") # in reverse complement of the M86 CDS\n",
    "\n",
    "M86_N_sig = M86_N_seq_30[:signature_len]\n",
    "M86_C_sig = M86_C_seq_30[:signature_len]"
   ]
  },
  {
   "cell_type": "markdown",
   "metadata": {},
   "source": [
    "In the example below, the example \"raw file\" is truncated to the first 10,000 records."
   ]
  },
  {
   "cell_type": "code",
   "execution_count": 6,
   "metadata": {},
   "outputs": [],
   "source": [
    "raw_filenames = [\n",
    "    \"example_IBM_NGS_raw_1_mCherry_1.fq\" # Expand this list for actual looping between multiple files\n",
    "    ]"
   ]
  },
  {
   "cell_type": "code",
   "execution_count": 7,
   "metadata": {},
   "outputs": [],
   "source": [
    "for raw_filename in raw_filenames:\n",
    "    new_filename = map_filename(raw_filename)\n",
    "    new_file_path = os.path.join(\"filtered_fastq_files\", new_filename)\n",
    "    raw_file_path = os.path.join(\"raw_fastq_files\", raw_filename)\n",
    "    read_handle = open(raw_file_path, \"r\")\n",
    "    input_seq_iterator = SeqIO.parse(read_handle, \"fastq\")\n",
    "    write_handle = open(new_file_path, \"w\")\n",
    "    output_seq_iterator = (record for record in input_seq_iterator \\\n",
    "                       if filter_fastq(record.seq, M86_N_sig, M86_C_sig, signature_len) == True)\n",
    "    SeqIO.write(output_seq_iterator, write_handle, \"fastq\")\n",
    "    read_handle.close()\n",
    "    write_handle.close()"
   ]
  },
  {
   "cell_type": "markdown",
   "metadata": {},
   "source": [
    "# Inspect before and after filter \n",
    "(The section below is typically not used in the data analysis pipeline. It is only used here to show the effect of filtering.)"
   ]
  },
  {
   "cell_type": "code",
   "execution_count": 8,
   "metadata": {},
   "outputs": [],
   "source": [
    "def count_total_reads(file_path):\n",
    "    read_handle = open(file_path, \"r\")\n",
    "    input_seq_iterator = SeqIO.parse(read_handle, \"fastq\")\n",
    "    count = 0\n",
    "    for rec in input_seq_iterator:\n",
    "        count+=1\n",
    "    return count"
   ]
  },
  {
   "cell_type": "code",
   "execution_count": 9,
   "metadata": {},
   "outputs": [
    {
     "name": "stdout",
     "output_type": "stream",
     "text": [
      "Unfiltered read counts = 10000\n"
     ]
    }
   ],
   "source": [
    "# Count total number of reads in the raw file\n",
    "print(\"Unfiltered read counts =\", count_total_reads(raw_file_path))"
   ]
  },
  {
   "cell_type": "code",
   "execution_count": 10,
   "metadata": {},
   "outputs": [
    {
     "name": "stdout",
     "output_type": "stream",
     "text": [
      "Filtered read counts = 635\n"
     ]
    }
   ],
   "source": [
    "# Count total number of reads in the filtered file\n",
    "print(\"Filtered read counts =\", count_total_reads(new_file_path))"
   ]
  },
  {
   "cell_type": "markdown",
   "metadata": {},
   "source": [
    "Therefore, in the example file there are approximately 6.4% of reads that contain the signature sequences."
   ]
  }
 ],
 "metadata": {
  "kernelspec": {
   "display_name": "Python 3",
   "language": "python",
   "name": "python3"
  },
  "language_info": {
   "codemirror_mode": {
    "name": "ipython",
    "version": 3
   },
   "file_extension": ".py",
   "mimetype": "text/x-python",
   "name": "python",
   "nbconvert_exporter": "python",
   "pygments_lexer": "ipython3",
   "version": "3.7.7"
  },
  "toc": {
   "base_numbering": 1,
   "nav_menu": {},
   "number_sections": true,
   "sideBar": true,
   "skip_h1_title": false,
   "title_cell": "Table of Contents",
   "title_sidebar": "Contents",
   "toc_cell": false,
   "toc_position": {},
   "toc_section_display": true,
   "toc_window_display": false
  },
  "varInspector": {
   "cols": {
    "lenName": 16,
    "lenType": 16,
    "lenVar": 40
   },
   "kernels_config": {
    "python": {
     "delete_cmd_postfix": "",
     "delete_cmd_prefix": "del ",
     "library": "var_list.py",
     "varRefreshCmd": "print(var_dic_list())"
    },
    "r": {
     "delete_cmd_postfix": ") ",
     "delete_cmd_prefix": "rm(",
     "library": "var_list.r",
     "varRefreshCmd": "cat(var_dic_list()) "
    }
   },
   "types_to_exclude": [
    "module",
    "function",
    "builtin_function_or_method",
    "instance",
    "_Feature"
   ],
   "window_display": false
  }
 },
 "nbformat": 4,
 "nbformat_minor": 4
}
