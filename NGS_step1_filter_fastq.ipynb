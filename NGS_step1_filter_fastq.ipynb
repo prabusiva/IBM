{
  "nbformat": 4,
  "nbformat_minor": 0,
  "metadata": {
    "kernelspec": {
      "display_name": "Python 3",
      "language": "python",
      "name": "python3"
    },
    "language_info": {
      "codemirror_mode": {
        "name": "ipython",
        "version": 3
      },
      "file_extension": ".py",
      "mimetype": "text/x-python",
      "name": "python",
      "nbconvert_exporter": "python",
      "pygments_lexer": "ipython3",
      "version": "3.7.7"
    },
    "toc": {
      "base_numbering": 1,
      "nav_menu": {},
      "number_sections": true,
      "sideBar": true,
      "skip_h1_title": false,
      "title_cell": "Table of Contents",
      "title_sidebar": "Contents",
      "toc_cell": false,
      "toc_position": {},
      "toc_section_display": true,
      "toc_window_display": false
    },
    "varInspector": {
      "cols": {
        "lenName": 16,
        "lenType": 16,
        "lenVar": 40
      },
      "kernels_config": {
        "python": {
          "delete_cmd_postfix": "",
          "delete_cmd_prefix": "del ",
          "library": "var_list.py",
          "varRefreshCmd": "print(var_dic_list())"
        },
        "r": {
          "delete_cmd_postfix": ") ",
          "delete_cmd_prefix": "rm(",
          "library": "var_list.r",
          "varRefreshCmd": "cat(var_dic_list()) "
        }
      },
      "types_to_exclude": [
        "module",
        "function",
        "builtin_function_or_method",
        "instance",
        "_Feature"
      ],
      "window_display": false
    },
    "colab": {
      "name": "NGS_step1_filter_fastq.ipynb",
      "provenance": []
    }
  },
  "cells": [
    {
      "cell_type": "markdown",
      "metadata": {
        "id": "-_ETXz5pe2jL"
      },
      "source": [
        "# Setup Colab"
      ]
    },
    {
      "cell_type": "code",
      "metadata": {
        "colab": {
          "base_uri": "https://localhost:8080/"
        },
        "id": "h5zB6p5YiYVM",
        "outputId": "9a5d170e-bd51-4f4d-d3a7-5709075a529e"
      },
      "source": [
        "!npx degit https://github.com/prabusiva/IBM -f\n",
        "!pip install biopython\n",
        "#!git clone https://github.com/prabusiva/IBM # maybe use wget\n",
        "#path = '/content/IBM'"
      ],
      "execution_count": 4,
      "outputs": [
        {
          "output_type": "stream",
          "name": "stdout",
          "text": [
            "\u001b[?25l[..................] / rollbackFailedOptional: verb npm-session f3d58db11c75d6c\u001b[0m\u001b[K\r[#######...........] \\ extract:degit: verb lock using /root/.npm/_locks/staging\u001b[0m\u001b[K\r[#######...........] \\ extract:degit: verb lock using /root/.npm/_locks/staging\u001b[0m\u001b[K\r\r\u001b[K\u001b[?25hnpx: installed 1 in 0.977s\n",
            "\u001b[36m> destination directory is not empty. Using --force, continuing\u001b[39m\n",
            "\u001b[36m> cloned \u001b[1mprabusiva/IBM\u001b[22m#\u001b[1mHEAD\u001b[22m\u001b[39m\n",
            "Collecting biopython\n",
            "  Downloading biopython-1.79-cp37-cp37m-manylinux_2_5_x86_64.manylinux1_x86_64.whl (2.3 MB)\n",
            "\u001b[K     |████████████████████████████████| 2.3 MB 8.9 MB/s \n",
            "\u001b[?25hRequirement already satisfied: numpy in /usr/local/lib/python3.7/dist-packages (from biopython) (1.19.5)\n",
            "Installing collected packages: biopython\n",
            "Successfully installed biopython-1.79\n"
          ]
        }
      ]
    },
    {
      "cell_type": "markdown",
      "metadata": {
        "id": "eBmbTg3-lClk"
      },
      "source": [
        "# Setup Python"
      ]
    },
    {
      "cell_type": "code",
      "metadata": {
        "id": "t00VQV6pe2jh"
      },
      "source": [
        "import os\n",
        "from Bio import SeqIO, Align\n",
        "from Bio.Seq import Seq"
      ],
      "execution_count": 5,
      "outputs": []
    },
    {
      "cell_type": "markdown",
      "metadata": {
        "id": "HunZWvfQe2js"
      },
      "source": [
        "# Set up aligner, functions and parameters"
      ]
    },
    {
      "cell_type": "code",
      "metadata": {
        "id": "SqvoaYsue2jw"
      },
      "source": [
        "aligner = Align.PairwiseAligner()\n",
        "aligner.mode = 'local'\n",
        "aligner.open_gap_score = -10\n",
        "aligner.extend_gap_score = -10"
      ],
      "execution_count": 6,
      "outputs": []
    },
    {
      "cell_type": "code",
      "metadata": {
        "id": "ySJCp54Ve2j0"
      },
      "source": [
        "def filter_fastq(query_seq, signature_seq1, signature_seq2, min_score):\n",
        "    '''Checks whether the read scores a hit with any of the signature sequence in either orientation'''\n",
        "    \n",
        "    all_signature_seqs = [\n",
        "        signature_seq1,\n",
        "        signature_seq2,\n",
        "        signature_seq1.reverse_complement(),\n",
        "        signature_seq2.reverse_complement()\n",
        "    ]\n",
        "    \n",
        "    match_found = False\n",
        "    for signature_seq in all_signature_seqs:\n",
        "        alignment = aligner.align(query_seq, signature_seq)\n",
        "        if alignment.score >= min_score:\n",
        "            match_found = True\n",
        "            break\n",
        "    return match_found\n",
        "\n",
        "# Change new_filename below to customize the output filename\n",
        "def map_filename(filename):\n",
        "    library_info = filename.split(\".fq\")[0].split(\"NGS_raw_\")[1]\n",
        "    read_direction = library_info.split(\"_\")[2]\n",
        "    new_filename = \"example_IBM_NGS_filtered_\" + library_info + \".fq\"\n",
        "    return new_filename"
      ],
      "execution_count": 7,
      "outputs": []
    },
    {
      "cell_type": "code",
      "metadata": {
        "id": "RJemW5Pbe2j7"
      },
      "source": [
        "# Determine how long the sequence within the entered signature sequence will be used\n",
        "signature_len = 12"
      ],
      "execution_count": 8,
      "outputs": []
    },
    {
      "cell_type": "markdown",
      "metadata": {
        "id": "sTdl6U4Se2j-"
      },
      "source": [
        "# Example on an IBM library of mCherry split by the split M86 intein"
      ]
    },
    {
      "cell_type": "code",
      "metadata": {
        "id": "tTmAkzvBe2kB"
      },
      "source": [
        "M86_N_seq_30 = Seq(\"TGGAtgcatctcgggagatagtttgatcag\").upper()\n",
        "M86_C_seq_30 = Seq(\"TGAgttatgtacaatgatgtcattggcgac\").upper() # in reverse complement of the M86 CDS\n",
        "\n",
        "M86_N_sig = M86_N_seq_30[:signature_len]\n",
        "M86_C_sig = M86_C_seq_30[:signature_len]"
      ],
      "execution_count": 15,
      "outputs": []
    },
    {
      "cell_type": "markdown",
      "metadata": {
        "id": "dRKtChe-e2kE"
      },
      "source": [
        "In the example below, the example \"raw file\" is truncated to the first 10,000 records."
      ]
    },
    {
      "cell_type": "code",
      "metadata": {
        "id": "tiLkaPRce2kJ"
      },
      "source": [
        "raw_filenames = [\n",
        "    \"example_IBM_NGS_raw_1_mCherry_1.fq\" # Expand this list for actual looping between multiple files\n",
        "    ]"
      ],
      "execution_count": 10,
      "outputs": []
    },
    {
      "cell_type": "code",
      "metadata": {
        "id": "aAIMWjQie2kO"
      },
      "source": [
        "for raw_filename in raw_filenames:\n",
        "    new_filename = map_filename(raw_filename)\n",
        "    new_file_path = os.path.join(\"filtered_fastq_files\", new_filename)\n",
        "    raw_file_path = os.path.join(\"raw_fastq_files\", raw_filename)\n",
        "    read_handle = open(raw_file_path, \"r\")\n",
        "    input_seq_iterator = SeqIO.parse(read_handle, \"fastq\")\n",
        "    write_handle = open(new_file_path, \"w\")\n",
        "    output_seq_iterator = (record for record in input_seq_iterator \\\n",
        "                       if filter_fastq(record.seq, M86_N_sig, M86_C_sig, signature_len) == True)\n",
        "    SeqIO.write(output_seq_iterator, write_handle, \"fastq\")\n",
        "    read_handle.close()\n",
        "    write_handle.close()"
      ],
      "execution_count": 17,
      "outputs": []
    },
    {
      "cell_type": "markdown",
      "metadata": {
        "id": "nDoSp64we2kS"
      },
      "source": [
        "# Inspect before and after filter \n",
        "(The section below is typically not used in the data analysis pipeline. It is only used here to show the effect of filtering.)"
      ]
    },
    {
      "cell_type": "code",
      "metadata": {
        "id": "ycj7rEcPe2kU"
      },
      "source": [
        "def count_total_reads(file_path):\n",
        "    read_handle = open(file_path, \"r\")\n",
        "    input_seq_iterator = SeqIO.parse(read_handle, \"fastq\")\n",
        "    count = 0\n",
        "    for rec in input_seq_iterator:\n",
        "        count+=1\n",
        "    return count"
      ],
      "execution_count": 12,
      "outputs": []
    },
    {
      "cell_type": "code",
      "metadata": {
        "colab": {
          "base_uri": "https://localhost:8080/"
        },
        "id": "pLAjsy7de2kW",
        "outputId": "4e06f806-e5d6-4267-e080-e67743768328"
      },
      "source": [
        "# Count total number of reads in the raw file\n",
        "print(\"Unfiltered read counts =\", count_total_reads(raw_file_path))"
      ],
      "execution_count": 13,
      "outputs": [
        {
          "output_type": "stream",
          "name": "stdout",
          "text": [
            "Unfiltered read counts = 10000\n"
          ]
        }
      ]
    },
    {
      "cell_type": "code",
      "metadata": {
        "colab": {
          "base_uri": "https://localhost:8080/"
        },
        "id": "d5PHDmBde2kg",
        "outputId": "b0b779a1-a3ee-42f1-86b9-e9c780272000"
      },
      "source": [
        "# Count total number of reads in the filtered file\n",
        "print(\"Filtered read counts =\", count_total_reads(new_file_path))"
      ],
      "execution_count": 18,
      "outputs": [
        {
          "output_type": "stream",
          "name": "stdout",
          "text": [
            "Filtered read counts = 635\n"
          ]
        }
      ]
    },
    {
      "cell_type": "markdown",
      "metadata": {
        "id": "OIcGNMFce2kk"
      },
      "source": [
        "Therefore, in the example file there are approximately 6.4% of reads that contain the signature sequences."
      ]
    }
  ]
}